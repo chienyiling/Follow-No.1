{
 "cells": [
  {
   "cell_type": "code",
   "execution_count": 3,
   "id": "d342e8a1",
   "metadata": {},
   "outputs": [],
   "source": [
    "import numpy as np\n",
    "import pandas as pd\n",
    "from collections import defaultdict"
   ]
  },
  {
   "cell_type": "code",
   "execution_count": 4,
   "id": "f0ad4497",
   "metadata": {
    "scrolled": true
   },
   "outputs": [
    {
     "data": {
      "text/html": [
       "<div>\n",
       "<style scoped>\n",
       "    .dataframe tbody tr th:only-of-type {\n",
       "        vertical-align: middle;\n",
       "    }\n",
       "\n",
       "    .dataframe tbody tr th {\n",
       "        vertical-align: top;\n",
       "    }\n",
       "\n",
       "    .dataframe thead th {\n",
       "        text-align: right;\n",
       "    }\n",
       "</style>\n",
       "<table border=\"1\" class=\"dataframe\">\n",
       "  <thead>\n",
       "    <tr style=\"text-align: right;\">\n",
       "      <th></th>\n",
       "      <th>User</th>\n",
       "      <th>Place</th>\n",
       "      <th>Rating</th>\n",
       "    </tr>\n",
       "  </thead>\n",
       "  <tbody>\n",
       "    <tr>\n",
       "      <th>0</th>\n",
       "      <td>江宛俶</td>\n",
       "      <td>B.B.ART</td>\n",
       "      <td>5</td>\n",
       "    </tr>\n",
       "    <tr>\n",
       "      <th>1</th>\n",
       "      <td>Hera Liu</td>\n",
       "      <td>B.B.ART</td>\n",
       "      <td>4</td>\n",
       "    </tr>\n",
       "    <tr>\n",
       "      <th>2</th>\n",
       "      <td>許詠貽</td>\n",
       "      <td>B.B.ART</td>\n",
       "      <td>5</td>\n",
       "    </tr>\n",
       "    <tr>\n",
       "      <th>3</th>\n",
       "      <td>Yeh JC</td>\n",
       "      <td>B.B.ART</td>\n",
       "      <td>5</td>\n",
       "    </tr>\n",
       "    <tr>\n",
       "      <th>4</th>\n",
       "      <td>黃燕伶</td>\n",
       "      <td>B.B.ART</td>\n",
       "      <td>4</td>\n",
       "    </tr>\n",
       "  </tbody>\n",
       "</table>\n",
       "</div>"
      ],
      "text/plain": [
       "       User    Place  Rating\n",
       "0       江宛俶  B.B.ART       5\n",
       "1  Hera Liu  B.B.ART       4\n",
       "2       許詠貽  B.B.ART       5\n",
       "3    Yeh JC  B.B.ART       5\n",
       "4       黃燕伶  B.B.ART       4"
      ]
     },
     "execution_count": 4,
     "metadata": {},
     "output_type": "execute_result"
    }
   ],
   "source": [
    "df = pd.read_excel(\"./All.xlsx\",engine='openpyxl')\n",
    "df[0:5]"
   ]
  },
  {
   "cell_type": "code",
   "execution_count": 5,
   "id": "5b094e5a",
   "metadata": {},
   "outputs": [],
   "source": [
    "# 輸入景點 推薦其他人去的景點"
   ]
  },
  {
   "cell_type": "code",
   "execution_count": 25,
   "id": "f50b8d14",
   "metadata": {},
   "outputs": [],
   "source": [
    "Name = '南鯤鯓代天府'\n",
    "UserList = df.loc[df[\"Place\"]==Name,\"User\"].values\n",
    "UserOne = UserList[0]\n",
    "SetList = []\n",
    "user_similarity = [] \n",
    "\n",
    "for other_user in UserList[0:50]: \n",
    "    if len(df.loc[df[\"User\"]==other_user,\"Place\"].values) < 5 :continue\n",
    "    if UserOne == other_user:continue\n",
    "    if {UserOne,other_user} not in SetList:\n",
    "        SetList.append({UserOne,other_user})\n",
    "    else:\n",
    "        continue\n",
    "    sim = find_common_places(UserOne,other_user) # 兩者相似度的分數 \n",
    "    user_similarity.append([other_user,sim]) # 將使用者 & 兩者相似度的分數 變 List  \n",
    "        \n",
    "user_similarity = np.array(user_similarity) # 將使用者 & 兩者相似度的分數 轉成 np\n",
    "sorted_index = np.argsort(user_similarity, axis=0)[:,1][::-1][:10] # 依照排序\n",
    "top10_similar_user = user_similarity[:,0][sorted_index] # 將排序帶入使用者\n",
    "\n",
    "wordCountList = []\n",
    "wordCountDict = dict()\n",
    "for inter in top10_similar_user:\n",
    "    movies = df.loc[df.User==inter,[\"Place\",\"Rating\"]].values.tolist()\n",
    "    for re,sor in movies:\n",
    "        if sor == 5 and re != Name:\n",
    "            if re in wordCountDict:\n",
    "                wordCountDict[re] += 1\n",
    "            else:\n",
    "                wordCountDict[re] = 1\n",
    "    wordCountList = [(w,wordCountDict[w]) for w in wordCountDict]\n",
    "    wordCountList.sort(key=lambda x:x[1],reverse=True)\n"
   ]
  },
  {
   "cell_type": "code",
   "execution_count": 28,
   "id": "372b8cc1",
   "metadata": {},
   "outputs": [
    {
     "name": "stdout",
     "output_type": "stream",
     "text": [
      "二寮日出\n",
      "國立臺灣歷史博物館\n",
      "奇美食品幸福工廠\n",
      "原台南州廳-台灣文學館\n",
      "延平郡王祠\n"
     ]
    }
   ],
   "source": [
    "for recom,score in wordCountList[0:5]:\n",
    "    print(recom)"
   ]
  },
  {
   "cell_type": "code",
   "execution_count": null,
   "id": "2dd1b752",
   "metadata": {
    "scrolled": true
   },
   "outputs": [],
   "source": [
    "top10_similar_user"
   ]
  },
  {
   "cell_type": "code",
   "execution_count": 8,
   "id": "2f4ff0af",
   "metadata": {},
   "outputs": [],
   "source": [
    "def find_common_places(user1,user2):\n",
    "    u1 = df[df[\"User\"]==user1] # 條件 = user1 的 DF\n",
    "    u2 = df[df[\"User\"]==user2] # 條件 = user2 的 DF   \n",
    "    s1 = set((df.loc[df[\"User\"]==user1,\"Place\"].values)) #取出 user1 所有去過的景點\n",
    "    s2 = set((df.loc[df[\"User\"]==user2,\"Place\"].values)) #取出 user2 所有去過的景點\n",
    "    place_id = s1.intersection(s2) # 取交集\n",
    "    vec1 = u1[u1.Place.isin(place_id)].sort_values(by=\"Place\")[\"Rating\"].values # 找出相對應的景點評分\n",
    "    vec2 = u2[u2.Place.isin(place_id)].sort_values(by=\"Place\")[\"Rating\"].values # 找出相對應的景點評分\n",
    "    vec1 = np.mat(vec1)\n",
    "    vec2 = np.mat(vec2)\n",
    "    num = float(vec1 * vec2.T)\n",
    "    denom = np.linalg.norm(vec1) * np.linalg.norm(vec2)\n",
    "    cos = num / denom\n",
    "    sim = 0.5 + 0.5 * cos\n",
    "    return sim \n",
    "    "
   ]
  },
  {
   "cell_type": "code",
   "execution_count": null,
   "id": "a9599b45",
   "metadata": {},
   "outputs": [],
   "source": []
  }
 ],
 "metadata": {
  "kernelspec": {
   "display_name": "Python 3",
   "language": "python",
   "name": "python3"
  },
  "language_info": {
   "codemirror_mode": {
    "name": "ipython",
    "version": 3
   },
   "file_extension": ".py",
   "mimetype": "text/x-python",
   "name": "python",
   "nbconvert_exporter": "python",
   "pygments_lexer": "ipython3",
   "version": "3.6.8"
  }
 },
 "nbformat": 4,
 "nbformat_minor": 5
}
