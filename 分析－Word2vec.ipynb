{
 "cells": [
  {
   "cell_type": "markdown",
   "id": "9da84b66",
   "metadata": {},
   "source": [
    "## <font color=red>第10行要改成自己mysql的密碼</font>"
   ]
  },
  {
   "cell_type": "code",
   "execution_count": 4,
   "id": "6da84bdd",
   "metadata": {},
   "outputs": [
    {
     "name": "stdout",
     "output_type": "stream",
     "text": [
      "輸入地點：國立臺灣歷史博物館\n",
      "\n",
      "原台南州廳-台灣文學館\n",
      "臺南市中西區中正路1號\n",
      "\n",
      "台灣詩路\n",
      "臺南市鹽水區田寮里68-1號\n",
      "\n",
      "原林百貨\n",
      "臺南市中西區忠義路二段63號\n",
      "\n",
      "台灣烏腳病醫療紀念館\n",
      "臺南市北門區永隆里27號\n",
      "\n",
      "玉山寶光聖堂\n",
      "臺南市南化區玉山里17-1號\n",
      "\n"
     ]
    }
   ],
   "source": [
    "import random\n",
    "import pymysql\n",
    "import pandas as pd\n",
    "import Myword2vec\n",
    "import Mysnownlp\n",
    "\n",
    "#--------------------------------------------------------------------------------------------------------------------------\n",
    "# Mysql連線\n",
    "#--------------------------------------------------------------------------------------------------------------------------\n",
    "conn = pymysql.connect(host='localhost', port=3306, user='root', passwd='passwd', db='Travel', charset='utf8mb4')\n",
    "cursor = conn.cursor()\n",
    "\n",
    "#--------------------------------------------------------------------------------------------------------------------------\n",
    "# 取得分析資料\n",
    "#--------------------------------------------------------------------------------------------------------------------------\n",
    "inputname = input('輸入地點：')\n",
    "print()\n",
    "\n",
    "sql = \"\"\"select ID,Name\n",
    "        from Viewpoint\n",
    "        where Tag = (select Tag from Viewpoint where Name = '%s')\n",
    "        ;\"\"\"%(inputname)\n",
    "\n",
    "cursor.execute(sql)\n",
    "OldDF = cursor.fetchall()\n",
    "\n",
    "# 轉成表格\n",
    "columns = ['Index','景點名稱']\n",
    "NewDF = pd.DataFrame(columns=columns,data=OldDF)\n",
    "\n",
    "myID = NewDF['Index']\n",
    "myName = NewDF['景點名稱']\n",
    "myLen = len(NewDF)\n",
    "\n",
    "#--------------------------------------------------------------------------------------------------------------------------\n",
    "# 取得分析結果\n",
    "#--------------------------------------------------------------------------------------------------------------------------\n",
    "\n",
    "word = Myword2vec.Myword2vec(inputname,myID,myName,myLen)\n",
    "\n",
    "for a in word:\n",
    "\n",
    "    sql = \"\"\"select Name,Address \n",
    "            from Viewpoint\n",
    "            where ID = '%s'\n",
    "            ;\"\"\"%(a)\n",
    "\n",
    "    cursor.execute(sql)\n",
    "    OldDF = cursor.fetchall()\n",
    "    for b,c in OldDF:\n",
    "        print(b)\n",
    "        print(c)\n",
    "        print()\n",
    "\n",
    "#--------------------------------------------------------------------------------------------------------------------------\n",
    "# 關閉 Mysql連線\n",
    "#--------------------------------------------------------------------------------------------------------------------------\n",
    "conn.commit()\n",
    "cursor.close()\n",
    "conn.close()"
   ]
  }
 ],
 "metadata": {
  "kernelspec": {
   "display_name": "Python 3",
   "language": "python",
   "name": "python3"
  },
  "language_info": {
   "codemirror_mode": {
    "name": "ipython",
    "version": 3
   },
   "file_extension": ".py",
   "mimetype": "text/x-python",
   "name": "python",
   "nbconvert_exporter": "python",
   "pygments_lexer": "ipython3",
   "version": "3.6.8"
  }
 },
 "nbformat": 4,
 "nbformat_minor": 5
}
