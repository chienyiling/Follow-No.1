{
 "cells": [
  {
   "cell_type": "markdown",
   "id": "0de8a49e",
   "metadata": {},
   "source": [
    "# 要儲存的資料"
   ]
  },
  {
   "cell_type": "code",
   "execution_count": null,
   "id": "cb1def5c",
   "metadata": {},
   "outputs": [],
   "source": [
    "import numpy as np\n",
    "import pandas as pd\n",
    "import json\n",
    "\n",
    "values = tuple()\n",
    "valuesList = list()\n",
    "\n",
    "df = pd.read_excel(\"./NewData.xlsx\",engine='openpyxl')\n",
    "\n",
    "for n in range(20):\n",
    "    values =  df.index[n],df['景點名稱'][n],df['景點評分'][n],df['觀看人數'][n],df['景點介紹'][n],df['景點地址'][n].split('(')[0],df['景點評論'][n],df['Tag'][n]\n",
    "    valuesList.append(values)\n",
    "    values = tuple()"
   ]
  },
  {
   "cell_type": "markdown",
   "id": "98a3aed8",
   "metadata": {},
   "source": [
    "# 建立資料庫、資料表 & 匯入資料"
   ]
  },
  {
   "cell_type": "markdown",
   "id": "c9afd71a",
   "metadata": {},
   "source": [
    "## <font color=red>第7行要改成自己mysql的密碼</font>"
   ]
  },
  {
   "cell_type": "code",
   "execution_count": null,
   "id": "5fdd13f6",
   "metadata": {},
   "outputs": [],
   "source": [
    "import pymysql\n",
    "\n",
    "# 設定資料庫連線資訊\n",
    "host = 'localhost'\n",
    "port = 3306\n",
    "user = 'root'\n",
    "passwd = 'passwd'\n",
    "db = 'Travel'\n",
    "charset = 'utf8mb4'\n",
    "\n",
    "# 建立連線,要先將database建立好\n",
    "conn = pymysql.connect(host=host, port=port, user=user, passwd=passwd, db=db, charset=charset)\n",
    "\n",
    "# 建立游標\n",
    "cursor = conn.cursor()\n",
    "\n",
    "# 建立資料庫 & 資料表\n",
    "cursor.execute(\"CREATE DATABASE IF NOT EXISTS Travel\")\n",
    "crsql = \"\"\"CREATE TABLE IF NOT EXISTS Travel.Viewpoint (\n",
    "          ID VARCHAR(10) NOT NULL COMMENT 'Viewpoint ID',\n",
    "          Name VARCHAR(45) NOT NULL COMMENT 'Viewpoint name',\n",
    "          Score FLOAT(3),\n",
    "          Viewcont VARCHAR(45),\n",
    "          Content VARCHAR(1000),\n",
    "          Address VARCHAR(45),\n",
    "          Comment VARCHAR(100),\n",
    "          Tag VARCHAR(10),\n",
    "          PRIMARY KEY (ID))\n",
    "        DEFAULT CHARACTER SET = utf8mb4;\"\"\"\n",
    "\n",
    "cursor.execute(crsql)\n",
    "\n",
    "# 匯入資料\n",
    "sql = \"\"\"\n",
    "INSERT INTO Travel.Viewpoint (ID,Name,Score,Viewcont,Content,Address,Comment,Tag)\n",
    "VALUES (%s,%s,%s,%s,%s,%s,%s,%s);\n",
    "\"\"\"\n",
    "\n",
    "# 將指令放進 cursor 物件，並執行\n",
    "cursor.executemany(sql,valuesList)\n",
    "\n",
    "# 因 pymysql 預設不會自動 commit，故要記得 commit\n",
    "conn.commit()\n",
    "# 關閉連線\n",
    "cursor.close()\n",
    "conn.close()"
   ]
  }
 ],
 "metadata": {
  "kernelspec": {
   "display_name": "Python 3",
   "language": "python",
   "name": "python3"
  },
  "language_info": {
   "codemirror_mode": {
    "name": "ipython",
    "version": 3
   },
   "file_extension": ".py",
   "mimetype": "text/x-python",
   "name": "python",
   "nbconvert_exporter": "python",
   "pygments_lexer": "ipython3",
   "version": "3.6.8"
  }
 },
 "nbformat": 4,
 "nbformat_minor": 5
}
